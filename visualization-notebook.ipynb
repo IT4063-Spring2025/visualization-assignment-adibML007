{
 "cells": [
  {
   "attachments": {},
   "cell_type": "markdown",
   "metadata": {},
   "source": [
    "# Visualization Lab\n",
    "## Introduction\n",
    "This lab is designed to help you practice data visualization using Python. It will provide you with an opportunity to practice manipulating and visualizing data using Python libraries such as Pandas, Matplotlib, Seaborn, Plotly, and Bokeh, and will focus on choosing appropriate visualization methods based on data type and research questions.\n",
    "\n",
    "### Learning Objectives\n",
    "* Use Pandas to import, clean, and manipulate data.\n",
    "* Understand the importance of data visualization in data analysis and communication.\n",
    "* Evaluate and choose appropriate visualization methods based on data type and research questions.\n",
    "* Create basic to advanced plots, including scatterplots, 3D scatterplots, bubble plots, line charts, histograms, boxplots, heatmaps, and interactive visualizations using:\n",
    "  * Matplotlib.\n",
    "  * Seaborn.\n",
    "  * Plotly\n",
    "  * Bokeh\n",
    "\n",
    "**Emojis Legend**\n",
    "- 👨🏻‍💻 - Instructions; Tells you about something specific you need to do.\n",
    "- 🦉 - Tips; Will tell you about some hints, tips and best practices\n",
    "- 📜 - Documentations; provides links to documentations\n",
    "- 🚩 - Checkpoint; marks a good spot for you to commit your code to git\n",
    "- 🕵️ - Tester; Don't modify code blocks starting with this emoji"
   ]
  },
  {
   "attachments": {},
   "cell_type": "markdown",
   "metadata": {},
   "source": [
    "## Setup\n",
    "* Install this lab's dependencies by running the following command in your terminal:\n",
    "  ```bash\n",
    "  pipenv install\n",
    "  ```\n",
    "* Make sure you switch to the correct environment by choosing the correct kernel in the top right corner of the notebook.\n",
    "  * Note: the name for this lab is very similar to the previous lab, so make sure you select the correct one."
   ]
  },
  {
   "attachments": {},
   "cell_type": "markdown",
   "metadata": {},
   "source": [
    "#### Package Imports\n",
    "We will keep coming back to this cell to add \"import\" statements, and configure libraries as we need\n",
    "\n",
    "**Task 👨🏻‍💻**: Keep coming back to update this cell as you need to import new packages."
   ]
  },
  {
   "cell_type": "code",
   "execution_count": null,
   "metadata": {},
   "outputs": [],
   "source": [
    "import pandas as pd\n",
    "import numpy as np\n",
    "from scipy.stats import trim_mean\n",
    "import matplotlib as mpl\n",
    "import matplotlib.pyplot as plt\n",
    "import seaborn as sns\n",
    "import plotly.express as px\n",
    "from wordcloud import WordCloud\n",
    "\n",
    "# Configure pandas to display 500 rows; otherwise it will truncate the output\n",
    "pd.set_option('display.max_rows', 10)\n",
    "\n",
    "# To plot pretty figures\n",
    "%matplotlib inline\n",
    "mpl.rc('axes', labelsize=14)\n",
    "mpl.rc('xtick', labelsize=12)\n",
    "mpl.rc('ytick', labelsize=12)\n",
    "plt.style.use(\"bmh\")"
   ]
  },
  {
   "attachments": {},
   "cell_type": "markdown",
   "metadata": {},
   "source": [
    "### Part 1 Anscombe's Quartet\n",
    "Visualize Anscombe's Quartet using `Pandas` and `Matplotlib`. The data is available in the `datasets` folder. The data is in the `anscombes_quartet.csv` file. The data is in the following format:\n",
    "* Four datasets combined into one file; 8 columns and 11 rows, each 2 columns constitute a dataset.\n",
    "\n",
    "<details>\n",
    "  <summary>Anscombe's quartet data format looks like this</summary>\n",
    "  <img width=\"600\" src=\"https://github.com/IT4063C/images/raw/main/visualization-assignment/anscombes_quartet_format.png\" />\n",
    "</details>\n",
    "\n",
    "#### 👨🏻‍💻 1.1: Import the data"
   ]
  },
  {
   "cell_type": "code",
   "execution_count": null,
   "metadata": {},
   "outputs": [],
   "source": [
    "# 👨🏻‍💻 - Import the dataset in the project (datasets/anscombes_quartet.csv) into a dataframe called (anscombes_quartet)\n",
    "anscombes_quartet = pd.read_csv('./datasets/anscombes_quartet.csv')\n",
    "anscombes_quartet.head()\n"
   ]
  },
  {
   "attachments": {},
   "cell_type": "markdown",
   "metadata": {},
   "source": [
    "#### 👨🏻‍💻 1.2: Split the data into four datasets\n",
    "the imported dataset contains four datasets combined into one file. Each 2 columns constitute a dataset. Split the data into four datasets (df1, df2, df3, df4)."
   ]
  },
  {
   "cell_type": "code",
   "execution_count": null,
   "metadata": {},
   "outputs": [],
   "source": [
    "# 👨🏻‍💻 - Split the dataframe into 4 dataframes (df1, df2, df3, df4), such that each dataframe contains 2 columns (x, y) and 11 rows\n",
    "# Make sure you rename the columns to (x, y) instead of (`x_I`,`y_I`,`x_II`,`y_II`,`x_III`,`y_III`,`x_IV`,`y_IV`)\n",
    "\n",
    "df1 = anscombes_quartet[['x_I', 'y_I']].rename(columns={'x_I': 'x', 'y_I': 'y'})\n",
    "df2 = anscombes_quartet[['x_II', 'y_II']].rename(columns={'x_II': 'x', 'y_II': 'y'})\n",
    "df3 = anscombes_quartet[['x_III', 'y_III']].rename(columns={'x_III': 'x', 'y_III': 'y'})\n",
    "df4 = anscombes_quartet[['x_IV', 'y_IV']].rename(columns={'x_IV': 'x', 'y_IV': 'y'})\n"
   ]
  },
  {
   "attachments": {},
   "cell_type": "markdown",
   "metadata": {},
   "source": [
    "#### 👨🏻‍💻 1.3: Show a sample of the data for each dataset\n",
    "show 2 records for each dataset in a single cell.\n",
    "\n",
    "<details>\n",
    "  <summary>🦉 Hints</summary>\n",
    "  \n",
    "  * You'll need to use the `display` function to display multiple outputs in a single cell.\n",
    "</details>"
   ]
  },
  {
   "cell_type": "code",
   "execution_count": null,
   "metadata": {},
   "outputs": [],
   "source": [
    "# 👨🏻‍💻 - Get a random sample of 2 records from each dataframe\n",
    "display(df1.sample(2))\n",
    "display(df2.sample(2))\n",
    "display(df3.sample(2))\n",
    "display(df4.sample(2))\n"
   ]
  },
  {
   "attachments": {},
   "cell_type": "markdown",
   "metadata": {},
   "source": [
    "#### 👨🏻‍💻 1.4: Show the statistical summary for each dataset in a single cell\n",
    "\n",
    "<details>\n",
    "  <summary>🦉 Hints</summary>\n",
    "  \n",
    "  * You'll need to use the `display` function to display multiple outputs in a single cell.\n",
    "</details>"
   ]
  },
  {
   "cell_type": "code",
   "execution_count": null,
   "metadata": {},
   "outputs": [],
   "source": [
    "# 👨🏻‍💻 - Get the statistical summaries of the 4 dataframes (df1, df2, df3, df4)\n",
    "display(df1.describe())\n",
    "display(df2.describe())\n",
    "display(df3.describe())\n",
    "display(df4.describe())\n"
   ]
  },
  {
   "attachments": {},
   "cell_type": "markdown",
   "metadata": {},
   "source": [
    "**❓ What do you notice and what could this mean?**\n",
    "\n",
    "Despite the datasets having nearly identical statistical properties, their scatter plots reveal distinct patterns. This highlights the importance of visualizing data rather than relying solely on summary statistics."
   ]
  },
  {
   "cell_type": "markdown",
   "metadata": {},
   "source": [
    "> 🚩 : Make a git commit here"
   ]
  },
  {
   "attachments": {},
   "cell_type": "markdown",
   "metadata": {},
   "source": [
    "#### 👨🏻‍💻 1.5: Plot the data for each dataset\n",
    "In a single figure, plot a scatterplot of the data in each dataset.\n",
    "\n",
    "Use `Matplotlib` to plot the data. Each dataset should be plotted in a separate subplot."
   ]
  },
  {
   "cell_type": "code",
   "execution_count": null,
   "metadata": {},
   "outputs": [],
   "source": [
    "# 👨🏻‍💻 - Plot the 4 dataframes in a 2x2 grid using Matplotlib\n",
    "\n",
    "fig, axs = plt.subplots(2, 2, figsize=(10, 10))\n",
    "\n",
    "# Plot df1\n",
    "axs[0, 0].scatter(df1['x'], df1['y'])\n",
    "axs[0, 0].set_title('Dataset I')\n",
    "axs[0, 0].set_xlabel('x')\n",
    "axs[0, 0].set_ylabel('y')\n",
    "\n",
    "# Plot df2\n",
    "axs[0, 1].scatter(df2['x'], df2['y'])\n",
    "axs[0, 1].set_title('Dataset II')\n",
    "axs[0, 1].set_xlabel('x')\n",
    "axs[0, 1].set_ylabel('y')\n",
    "\n",
    "# Plot df3\n",
    "axs[1, 0].scatter(df3['x'], df3['y'])\n",
    "axs[1, 0].set_title('Dataset III')\n",
    "axs[1, 0].set_xlabel('x')\n",
    "axs[1, 0].set_ylabel('y')\n",
    "\n",
    "# Plot df4\n",
    "axs[1, 1].scatter(df4['x'], df4['y'])\n",
    "axs[1, 1].set_title('Dataset IV')\n",
    "axs[1, 1].set_xlabel('x')\n",
    "axs[1, 1].set_ylabel('y')\n",
    "\n",
    "plt.tight_layout()\n",
    "plt.show()\n"
   ]
  },
  {
   "attachments": {},
   "cell_type": "markdown",
   "metadata": {},
   "source": [
    "**❓ What do you notice and what does this mean?**"
   ]
  },
  {
   "cell_type": "markdown",
   "metadata": {},
   "source": [
    "> 🚩 : Make a git commit here"
   ]
  },
  {
   "attachments": {},
   "cell_type": "markdown",
   "metadata": {},
   "source": [
    "### Part 2: Iris Dataset\n",
    "In this set of exercises, we'll explore scatterplots and bubble plots.\n",
    "We will use the Iris Datasets which is available through the `sklearn.datasets` packages, and is imported for you into a `pandas` DataFrame.\n",
    "- `iris_df` is a `pandas` DataFrame with 150 rows and 5 columns.\n",
    "- the first 4 columns are the features of the dataset, and the last column is the target: the name of the species\n",
    "- The target is a categorical variable with 3 unique values: 0, 1, and 2, reflected in the `target_names` series as `setosa`, `versicolor`, `virginica`"
   ]
  },
  {
   "attachments": {},
   "cell_type": "markdown",
   "metadata": {},
   "source": [
    "#### 👨🏻‍💻 2.1: Import the data (done for you)"
   ]
  },
  {
   "cell_type": "code",
   "execution_count": null,
   "metadata": {},
   "outputs": [],
   "source": [
    "# 👨🏻‍💻 I imported the iris dataset from sklearn and converted it to a dataframe for you\n",
    "from sklearn.datasets import load_iris\n",
    "iris = load_iris(as_frame=True)\n",
    "iris_df = iris.frame\n",
    "target_names = iris.target_names\n",
    "\n",
    "display(target_names)\n",
    "display(iris_df.head())"
   ]
  },
  {
   "attachments": {},
   "cell_type": "markdown",
   "metadata": {},
   "source": [
    "#### 👨🏻‍💻 2.2: Show the a summary about the data frame, its columns, and the data types of each column"
   ]
  },
  {
   "cell_type": "code",
   "execution_count": null,
   "metadata": {},
   "outputs": [],
   "source": [
    "iris_df.info()"
   ]
  },
  {
   "attachments": {},
   "cell_type": "markdown",
   "metadata": {},
   "source": [
    "#### 👨🏻‍💻 2.3: Print a random sample of 6 records from the dataset."
   ]
  },
  {
   "cell_type": "code",
   "execution_count": null,
   "metadata": {},
   "outputs": [],
   "source": [
    "iris_df.sample(6)"
   ]
  },
  {
   "cell_type": "markdown",
   "metadata": {},
   "source": [
    "> 🚩 : Make a git commit here"
   ]
  },
  {
   "attachments": {},
   "cell_type": "markdown",
   "metadata": {},
   "source": [
    "#### 👨🏻‍💻 2.4: Using `Matplotlib` Plot a figure to show the frequency of each of the species types (target) in this data set.\n",
    "\n",
    "* You'll need to choose the right chart type present the frequency of occurrence of the each of the species types (target) in this data set. \n",
    "* Use `Matplotlib` to plot the data.\n",
    "* Add a title and axis labels to your plot.\n",
    "* Make sure to add a legend that shows the species **names**.\n"
   ]
  },
  {
   "cell_type": "code",
   "execution_count": null,
   "metadata": {},
   "outputs": [],
   "source": [
    "# Using Matplotlib\n",
    "species_counts = iris_df['target'].value_counts().sort_index()\n",
    "species_names = [iris.target_names[i] for i in species_counts.index]\n",
    "\n",
    "plt.figure(figsize=(8, 6))\n",
    "bars = plt.bar(species_names, species_counts, color=['blue', 'orange', 'green'])\n",
    "plt.title('Frequency of Each Species in the Iris Dataset')\n",
    "plt.xlabel('Species')\n",
    "plt.ylabel('Frequency')\n",
    "plt.legend(bars, species_names)\n",
    "plt.show()\n"
   ]
  },
  {
   "cell_type": "markdown",
   "metadata": {},
   "source": [
    "> 🚩 : Make a git commit here"
   ]
  },
  {
   "attachments": {},
   "cell_type": "markdown",
   "metadata": {},
   "source": [
    "#### 👨🏻‍💻 2.5: Using `Seaborn` Plot a figure to show the frequency of each of the species types (target) in this data set.\n",
    "Recreate the same plot using `Seaborn`."
   ]
  },
  {
   "cell_type": "code",
   "execution_count": null,
   "metadata": {},
   "outputs": [],
   "source": [
    "# Using Seaborn\n",
    "sns.countplot(x='target', data=iris_df, palette=['blue', 'orange', 'green'])\n",
    "plt.title('Frequency of Each Species in the Iris Dataset')\n",
    "plt.xlabel('Species')\n",
    "plt.ylabel('Frequency')\n",
    "plt.xticks(ticks=[0, 1, 2], labels=species_names)\n",
    "plt.legend(bars, species_names)\n",
    "plt.show()"
   ]
  },
  {
   "cell_type": "markdown",
   "metadata": {},
   "source": [
    "> 🚩 : Make a git commit here"
   ]
  },
  {
   "attachments": {},
   "cell_type": "markdown",
   "metadata": {},
   "source": [
    "#### 👨🏻‍💻 2.6: Using `Matplotlib` Plot a figure to show the relationship between variables in the dataset.\n",
    "* Create a scatterplot matrix using `Matplotlib` to show the relationship between `sepal_length`, and `sepal_width`.\n",
    "* Add a title and axis labels to your plot.\n",
    "\n",
    "<details>\n",
    "  <summary>You should get something like this</summary>\n",
    "  <img alt=\"Iris Dataset Scatterplot\" src=\"https://github.com/IT4063C/images/raw/main/visualization-assignment/sepal-length-vs-width.png\" />\n",
    "</details>"
   ]
  },
  {
   "cell_type": "code",
   "execution_count": null,
   "metadata": {},
   "outputs": [],
   "source": [
    "# Create a scatterplot matrix using Matplotlib to show the relationship between sepal_length and sepal_width\n",
    "plt.figure(figsize=(8, 6))\n",
    "plt.scatter(iris_df['sepal length (cm)'], iris_df['sepal width (cm)'], alpha=0.7)\n",
    "plt.title('Scatterplot Matrix: Sepal Length vs Sepal Width')\n",
    "plt.xlabel('Sepal Length (cm)')\n",
    "plt.ylabel('Sepal Width (cm)')\n",
    "plt.show()"
   ]
  },
  {
   "cell_type": "markdown",
   "metadata": {},
   "source": [
    "> 🚩 : Make a git commit here"
   ]
  },
  {
   "attachments": {},
   "cell_type": "markdown",
   "metadata": {},
   "source": [
    "#### 👨🏻‍💻 2.7: Plot Improvement\n",
    "some of dots you see on the charts are overlapping. Let's try to make the dots more transparent.\n",
    "- Add and set the `alpha` parameter to `0.3` to make it easier to see overlapping values; values occurring more frequently.\n",
    "- Copy over the previous code and modify it to address the new requirement.\n",
    "\n",
    "<details>\n",
    "  <summary>You should get something like this</summary>\n",
    "  <img alt=\"Iris Dataset Scatterplot\" src=\"https://github.com/IT4063C/images/raw/main/visualization-assignment/sepal-length-vs-width-2.png\" />\n",
    "</details>"
   ]
  },
  {
   "cell_type": "code",
   "execution_count": null,
   "metadata": {},
   "outputs": [],
   "source": [
    "# Create a scatterplot matrix using Matplotlib to show the relationship between sepal_length and sepal_width with transparency\n",
    "plt.figure(figsize=(8, 6))\n",
    "plt.scatter(iris_df['sepal length (cm)'], iris_df['sepal width (cm)'], alpha=0.3)\n",
    "plt.title('Scatterplot Matrix: Sepal Length vs Sepal Width')\n",
    "plt.xlabel('Sepal Length (cm)')\n",
    "plt.ylabel('Sepal Width (cm)')\n",
    "plt.show()"
   ]
  },
  {
   "cell_type": "markdown",
   "metadata": {},
   "source": [
    "> 🚩 : Make a git commit here"
   ]
  },
  {
   "attachments": {},
   "cell_type": "markdown",
   "metadata": {},
   "source": [
    "#### 👨🏻‍💻 2.8: More Advanced Plotting\n",
    "A bubble plot is a scatterplot where the size of the dots are determined by a third variable. In this case, we'll use the petal width as the third variable.\n",
    "\n",
    "Use [📜the documentation here](https://matplotlib.org/stable/api/_as_gen/matplotlib.pyplot.scatter.html) to find out the additional option we need to introduce to modify the size of the dots. Set the size of the dots to be _proportional_ to the petal width.\n",
    "\n",
    "\n",
    "<details>\n",
    "  <summary>🦉 Hints</summary>\n",
    "  \n",
    "  * You'll need to use the `s` parameter to set the size of the dots.\n",
    "  * Since the petal width is a small number, you may need to multiply it by a large number to make the dots visible. \n",
    "    * try different numbers until you're satisfied with the result\n",
    "</details>\n",
    "\n",
    "<details>\n",
    "  <summary>You should get something like this</summary>\n",
    "  <img alt=\"Iris Dataset Scatterplot\" src=\"https://github.com/IT4063C/images/raw/main/visualization-assignment/sepal-length-vs-width-3.png\" />\n",
    "</details>"
   ]
  },
  {
   "cell_type": "code",
   "execution_count": null,
   "metadata": {},
   "outputs": [],
   "source": [
    "# Create a bubble plot using Matplotlib to show the relationship between sepal_length and sepal_width\n",
    "# with the size of the dots determined by petal width\n",
    "\n",
    "plt.figure(figsize=(10, 8))\n",
    "plt.scatter(iris_df['sepal length (cm)'], iris_df['sepal width (cm)'], \n",
    "            s=iris_df['petal width (cm)'] * 100, alpha=0.5)\n",
    "plt.title('Bubble Plot: Sepal Length vs Sepal Width (Size by Petal Width)')\n",
    "plt.xlabel('Sepal Length (cm)')\n",
    "plt.ylabel('Sepal Width (cm)')\n",
    "plt.show()"
   ]
  },
  {
   "cell_type": "markdown",
   "metadata": {},
   "source": [
    "> 🚩 : Make a git commit here"
   ]
  },
  {
   "attachments": {},
   "cell_type": "markdown",
   "metadata": {},
   "source": [
    "#### 👨🏻‍💻 2.9: Even More Advanced Plotting\n",
    "\n",
    "**Modify the color of the dots based on the value in the target column.**\n",
    "\n",
    "We can also introduce a fourth (categorical) variable here using colors. Let's use the species type (target) as the fourth variable.\n",
    "\n",
    "- Use [📜 the documentation here](https://matplotlib.org/stable/api/_as_gen/matplotlib.pyplot.scatter.html)\n",
    "\n",
    "<details>\n",
    "   <summary>🦉 Hints</summary>\n",
    "\n",
    "   * You'll need to use the `c` parameter to set the color of the dots.\n",
    "   * We'll need to use the `cmap` parameter to set the color map (color style/theme).\n",
    "   *  since the target is a categorical variable of (0,1,2). we will pass the the target column to the `c` parameter.\n",
    "   * the color map is a lookup table that maps the numbers to colors. I'm using the `viridis` color map.\n",
    "   * You're welcome to use any other color map.\n",
    "</details>\n",
    "\n",
    "<details>\n",
    "  <summary>You should get something like this</summary>\n",
    "  <img alt=\"Iris Dataset Scatterplot\" src=\"https://github.com/IT4063C/images/raw/main/visualization-assignment/sepal-length-vs-width-4.png\" />\n",
    "</details>\n"
   ]
  },
  {
   "cell_type": "code",
   "execution_count": null,
   "metadata": {},
   "outputs": [],
   "source": [
    "# Create a bubble plot using Matplotlib to show the relationship between sepal_length and sepal_width\n",
    "# with the size of the dots determined by petal width and color by species type\n",
    "\n",
    "plt.figure(figsize=(10, 8))\n",
    "scatter = plt.scatter(iris_df['sepal length (cm)'], iris_df['sepal width (cm)'], \n",
    "                      s=iris_df['petal width (cm)'] * 100, c=iris_df['target'], cmap='viridis', alpha=0.5)\n",
    "plt.title('Bubble Plot: Sepal Length vs Sepal Width (Size by Petal Width, Color by Species)')\n",
    "plt.xlabel('Sepal Length (cm)')\n",
    "plt.ylabel('Sepal Width (cm)')\n",
    "plt.colorbar(scatter, ticks=[0, 1, 2], format=plt.FuncFormatter(lambda val, loc: species_names[int(val)]))\n",
    "plt.show()"
   ]
  },
  {
   "cell_type": "markdown",
   "metadata": {},
   "source": [
    "> 🚩 : Make a git commit here"
   ]
  },
  {
   "attachments": {},
   "cell_type": "markdown",
   "metadata": {},
   "source": [
    "#### 👨🏻‍💻 2.10: Rebuild the plot using `Seaborn`\n",
    "Using the `sns.scatterplot` function, recreate the same plot using `Seaborn`.\n",
    "\n",
    "<details>\n",
    "  <summary>You should get something like this</summary>\n",
    "  <img alt=\"Iris Dataset Scatterplot\" src=\"https://github.com/IT4063C/images/raw/main/visualization-assignment/sepal-length-vs-width-5.png\" />\n",
    "</details>"
   ]
  },
  {
   "cell_type": "code",
   "execution_count": null,
   "metadata": {},
   "outputs": [],
   "source": [
    "# Create a bubble plot using Seaborn to show the relationship between sepal_length and sepal_width\n",
    "# with the size of the dots determined by petal width and color by species type\n",
    "\n",
    "plt.figure(figsize=(10, 8))\n",
    "sns.scatterplot(data=iris_df, x='sepal length (cm)', y='sepal width (cm)', \n",
    "                size='petal width (cm)', hue='target', palette='viridis', alpha=0.5, sizes=(20, 200))\n",
    "plt.title('Bubble Plot: Sepal Length vs Sepal Width (Size by Petal Width, Color by Species)')\n",
    "plt.xlabel('Sepal Length (cm)')\n",
    "plt.ylabel('Sepal Width (cm)')\n",
    "plt.legend(title='Species', labels=species_names)\n",
    "plt.show()"
   ]
  },
  {
   "cell_type": "markdown",
   "metadata": {},
   "source": [
    "> 🚩 : Make a git commit here"
   ]
  },
  {
   "attachments": {},
   "cell_type": "markdown",
   "metadata": {},
   "source": [
    "#### 👨🏻‍💻 2.11: Rebuild the plot using `plotly`\n",
    "Use the `px.scatter()` function.\n"
   ]
  },
  {
   "cell_type": "code",
   "execution_count": null,
   "metadata": {},
   "outputs": [],
   "source": [
    "fig = px.scatter(iris_df, x='sepal length (cm)', y='sepal width (cm)', \n",
    "                 size='petal width (cm)', color='target', \n",
    "                 hover_name='target', \n",
    "                 labels={'target': 'Species'},\n",
    "                 title='Bubble Plot: Sepal Length vs Sepal Width (Size by Petal Width, Color by Species)',\n",
    "                 color_continuous_scale=px.colors.sequential.Viridis)\n",
    "\n",
    "# Update the color bar to show species names\n",
    "fig.update_coloraxes(colorbar=dict(tickvals=[0, 1, 2], ticktext=species_names))\n",
    "\n",
    "fig.show()"
   ]
  },
  {
   "cell_type": "markdown",
   "metadata": {},
   "source": [
    "> 🚩 : Make a git commit here"
   ]
  },
  {
   "attachments": {},
   "cell_type": "markdown",
   "metadata": {},
   "source": [
    "## Part 3: Bitcoin Evolution\n",
    "In this set of exercises, we'll explore line and area charts.\n",
    "We will use the Bitcoin Evolution Dataset which is available as a txt file in the `datasets` folder. and is imported for you as a `pandas` DataFrame.\n",
    "The dataset contains 2 columns: a date, and price of bitcoin in USD.\n",
    "\n",
    "#### 👨🏻‍💻 3.1: Import the data (done for you)"
   ]
  },
  {
   "cell_type": "code",
   "execution_count": null,
   "metadata": {},
   "outputs": [],
   "source": [
    "bitcoin_df = pd.read_table(\"./datasets/bitcoin.txt\", sep=\" \")\n",
    "bitcoin_df['date']= pd.to_datetime(bitcoin_df['date'])\n",
    "bitcoin_df.info()"
   ]
  },
  {
   "attachments": {},
   "cell_type": "markdown",
   "metadata": {},
   "source": [
    "#### 👨🏻‍💻 3.2: Print the last 3 records of the dataset"
   ]
  },
  {
   "cell_type": "code",
   "execution_count": null,
   "metadata": {},
   "outputs": [],
   "source": [
    "# Print the last three records of the dataset bitcoin_df\n",
    "bitcoin_df.tail(3)"
   ]
  },
  {
   "attachments": {},
   "cell_type": "markdown",
   "metadata": {},
   "source": [
    "#### 👨🏻‍💻 3.3: Visualize the data using a line chart\n",
    "> \"A line chart or line graph displays the evolution of one or several numeric variables. Data points are connected by straight line segments. It is similar to a scatter plot except that the measurement points are ordered (typically by their x-axis value) and joined with straight line segments. A line chart is often used to visualize a trend in data over intervals of time – a time series – thus the line is often drawn chronologically.\" ([Data to Viz - Line Charts](https://www.data-to-viz.com/graph/line.html))\n",
    "\n",
    "Create a line chart using `matplotlib` to show the evolution of the price of bitcoin over time. Make sure to add a title and axis labels to your plot.\n",
    "\n",
    "<details>\n",
    "  <summary>You should get something like this</summary>\n",
    "  <img alt=\"Bitcoin evolution\" src=\"https://github.com/IT4063C/images/raw/main/visualization-assignment/bitcoin-line.png\" />\n",
    "</details>\n"
   ]
  },
  {
   "cell_type": "code",
   "execution_count": null,
   "metadata": {},
   "outputs": [],
   "source": [
    "# 👨🏻‍💻 - Plot the bitcoin price over time, with a wide figure size\n",
    "plt.figure(figsize=(14, 7))\n",
    "plt.plot(bitcoin_df['date'], bitcoin_df['value'])\n",
    "plt.title('Bitcoin Price Over Time')\n",
    "plt.xlabel('Date')\n",
    "plt.ylabel('Price (USD)')\n",
    "plt.show()\n"
   ]
  },
  {
   "cell_type": "markdown",
   "metadata": {},
   "source": [
    "> 🚩 : Make a git commit here"
   ]
  },
  {
   "attachments": {},
   "cell_type": "markdown",
   "metadata": {},
   "source": [
    "#### 👨🏻‍💻 3.4: Rebuild the plot using `plotly` to create an interactive line chart\n",
    "Note that as you hover over the different data points, you can see the date and the price of bitcoin at that point in time.\n",
    "\n",
    "<details>\n",
    "  <summary>You should get something like this</summary>\n",
    "  <img alt=\"Interactive Bitcoin Line chart\" src=\"https://github.com/IT4063C/images/raw/main/visualization-assignment/interactive-bitcoin.gif\" />\n",
    "</details>\n"
   ]
  },
  {
   "cell_type": "code",
   "execution_count": null,
   "metadata": {},
   "outputs": [],
   "source": [
    "import plotly.express as px\n",
    "\n",
    "fig = px.line(bitcoin_df, x='date', y='value', title='Bitcoin Price Over Time')\n",
    "fig.update_layout(xaxis_title='Date', yaxis_title='Price (USD)')\n",
    "fig.show()"
   ]
  },
  {
   "cell_type": "markdown",
   "metadata": {},
   "source": [
    "> 🚩 : Make a git commit here"
   ]
  },
  {
   "attachments": {},
   "cell_type": "markdown",
   "metadata": {},
   "source": [
    "## Part 4: Popular Names\n",
    "In this set of exercises, we'll explore some other chart types.\n",
    "We will use the babies names Dataset which is available as a txt file in the `datasets` folder. and is imported for you as a `pandas` DataFrame.\n",
    "\n",
    "#### 👨🏻‍💻 4.1: Import the data (done for you)"
   ]
  },
  {
   "cell_type": "code",
   "execution_count": null,
   "metadata": {},
   "outputs": [],
   "source": [
    "babies_wide_df = pd.read_csv(\"./datasets/names-wide.csv\")\n",
    "babies_wide_df.head()"
   ]
  },
  {
   "attachments": {},
   "cell_type": "markdown",
   "metadata": {},
   "source": [
    "#### 👨🏻‍💻 4.2: Create a stacked area chart\n",
    "> \"A stacked area chart is the extension of a basic area chart. It displays the evolution of the value of several groups on the same graphic. The values of each group are displayed on top of each other, what allows to check on the same figure the evolution of both the total of a numeric variable, and the importance of each group.\" ([Data to Viz - Stacked Area Charts](https://www.data-to-viz.com/graph/stackedarea.html))\n",
    "\n",
    "**Task 👨🏻‍💻**: Using the `babies_wide_df` DataFrame, create an interactive (stacked area chart) to show the evolution of the popularity of the names over time. Make sure to add a title and axis labels to your plot.\n",
    "You may use either `plotly` or `Bokeh`,\n",
    "\n",
    "<details>\n",
    "  <summary>You should get something like this</summary>\n",
    "  <img alt=\"Interactive names stacked area chart\" src=\"https://github.com/IT4063C/images/raw/main/visualization-assignment/stacked-names.gif\" />\n",
    "</details>"
   ]
  },
  {
   "cell_type": "code",
   "execution_count": null,
   "metadata": {},
   "outputs": [],
   "source": [
    "import plotly.express as px\n",
    "\n",
    "# Melt the dataframe to long format\n",
    "babies_long_df = babies_wide_df.melt(id_vars='year', var_name='name', value_name='count')\n",
    "\n",
    "# Create the stacked area chart\n",
    "fig = px.area(babies_long_df, x='year', y='count', color='name', \n",
    "              title='Evolution of the Popularity of Names Over Time',\n",
    "              labels={'year': 'Year', 'count': 'Count', 'name': 'Name'})\n",
    "\n",
    "fig.show()"
   ]
  },
  {
   "cell_type": "markdown",
   "metadata": {},
   "source": [
    "> 🚩 : Make a git commit here"
   ]
  },
  {
   "attachments": {},
   "cell_type": "markdown",
   "metadata": {},
   "source": [
    "## Part 5: Word Clouds (not a task)\n",
    "> \"A Wordcloud (or Tag cloud) displays a list of words, the importance of each beeing shown with font size or color. This format is useful for quickly perceiving the most prominent terms.\" ([Data to Viz - Word Clouds](https://www.data-to-viz.com/graph/wordcloud.html))\n",
    "\n",
    "This is not a task, but only here to share with you how you can generate word clouds using `wordcloud` and `matplotlib` for your own projects."
   ]
  },
  {
   "cell_type": "code",
   "execution_count": null,
   "metadata": {},
   "outputs": [],
   "source": [
    "with open('./datasets/martin-luther-king-i-have-a-dream-speech.txt') as f:\n",
    "    contents = f.read()\n",
    "print(contents)"
   ]
  },
  {
   "cell_type": "code",
   "execution_count": null,
   "metadata": {},
   "outputs": [],
   "source": [
    "# Create the wordcloud object\n",
    "wordcloud = WordCloud(width=480, height=480, margin=0).generate(contents)\n",
    "print(wordcloud.words_)"
   ]
  },
  {
   "cell_type": "markdown",
   "metadata": {},
   "source": [
    "notice how the results is a normalized dataset of all the words. So the most occurring word has a value of 1, and the least occurring word has a value approaching 0."
   ]
  },
  {
   "cell_type": "code",
   "execution_count": null,
   "metadata": {},
   "outputs": [],
   "source": [
    "import matplotlib.pyplot as plt\n",
    "\n",
    "# Display the generated image:\n",
    "plt.imshow(wordcloud, interpolation='bilinear')\n",
    "plt.axis(\"off\")\n",
    "plt.margins(x=0, y=0)\n",
    "plt.show()"
   ]
  },
  {
   "attachments": {},
   "cell_type": "markdown",
   "metadata": {},
   "source": [
    "## Extra Credits \n",
    "### Sunburst Charts\n",
    "**✨ Extra Credit Task 👨🏻‍💻**: For 3 Points: Explore and produce a `sunburst` chart using `plotly`. You may follow a tutorial here, but make sure you link to the tutorial in your code."
   ]
  },
  {
   "cell_type": "code",
   "execution_count": null,
   "metadata": {},
   "outputs": [],
   "source": [
    "\"A Sankey Diagram is a visualisation technique that allows to display flows. Several entities (nodes) are represented by rectangles or text. Their links are represented with arrows or arcs that have a width proportional to the importance of the flow.\" ([Data to Viz - Sankey Diagrams](https://www.data-to-viz.com/graph/sankey.html))\n",
    "\n",
    "**✨ Extra Credit Task 👨🏻‍💻**: For 3 Points: Follow [this tutorial](https://www.python-graph-gallery.com/sankey-diagram-with-python-and-plotly) on how to create a Sankey Diagram using `plotly`."
   ]
  },
  {
   "cell_type": "markdown",
   "metadata": {},
   "source": [
    "> 🚩 : Make a git commit here"
   ]
  },
  {
   "attachments": {},
   "cell_type": "markdown",
   "metadata": {},
   "source": [
    "### Snakey Diagrams\n",
    "\n",
    ">\"A Sankey Diagram is a visualisation technique that allows to display flows. Several entities (nodes) are represented by rectangles or text. Their links are represented with arrows or arcs that have a width proportional to the importance of the flow.\" ([Data to Viz - Sankey Diagrams](https://www.data-to-viz.com/graph/sankey.html))\n",
    "\n",
    "**✨ Extra Credit Task 👨🏻‍💻**: For 3 Points: Follow [this tutorial](https://www.python-graph-gallery.com/sankey-diagram-with-python-and-plotly) on how to create a Sankey Diagram using `plotly`.\n"
   ]
  },
  {
   "cell_type": "code",
   "execution_count": null,
   "metadata": {},
   "outputs": [],
   "source": [
    "import plotly.graph_objects as go\n",
    "\n",
    "# Define the Sankey diagram nodes and links\n",
    "nodes = dict(\n",
    "    label=['Amanda', 'Ashley', 'Betty', 'Deborah', 'Dorothy', 'Helen', 'Linda', 'Patricia'],\n",
    "    pad=15,\n",
    "    thickness=20,\n",
    "    line=dict(color='black', width=0.5)\n",
    ")\n",
    "\n",
    "links = dict(\n",
    "    source=[0, 1, 2, 3, 4, 5, 6, 7],\n",
    "    target=[1, 2, 3, 4, 5, 6, 7, 0],\n",
    "    value=[10, 20, 30, 40, 50, 60, 70, 80]\n",
    ")\n",
    "\n",
    "# Create the Sankey diagram\n",
    "fig = go.Figure(data=[go.Sankey(node=nodes, link=links)])\n",
    "\n",
    "# Update the layout\n",
    "fig.update_layout(title_text='Sankey Diagram Example', font_size=10)\n",
    "\n",
    "# Show the figure\n",
    "fig.show()"
   ]
  },
  {
   "attachments": {},
   "cell_type": "markdown",
   "metadata": {},
   "source": [
    "> 🚩 : Make a git commit here"
   ]
  },
  {
   "attachments": {},
   "cell_type": "markdown",
   "metadata": {},
   "source": [
    "## Wrap Up\n",
    "> Moved from the README file\n",
    "### 🤔 Reflection\n",
    "**How often did you have to check the solution to the problem? How did you feel about that?**\n",
    "**With hindsight, what would you do differently?**\n",
    "**What was the most challenging part of this lab?**"
   ]
  },
  {
   "cell_type": "raw",
   "metadata": {},
   "source": []
  },
  {
   "attachments": {},
   "cell_type": "markdown",
   "metadata": {},
   "source": [
    "## Citations\n",
    "**Cite any resources you used in solving this assignment**\n",
    "\n",
    "This includes:\n",
    "- Individuals other than myself.\n",
    "- Websites\n",
    "- Videos\n",
    "- AI tools such as GitHub Copilot or ChatGPT."
   ]
  },
  {
   "cell_type": "raw",
   "metadata": {},
   "source": []
  },
  {
   "attachments": {},
   "cell_type": "markdown",
   "metadata": {},
   "source": [
    "Make sure you run the following cell; this converts this Jupyter notebook to a Python script. and will make the process of reviewing your code on GitHub easier"
   ]
  },
  {
   "cell_type": "code",
   "execution_count": null,
   "metadata": {},
   "outputs": [],
   "source": [
    "# 🦉: The following command converts this Jupyter notebook to a Python script.\n",
    "!jupyter nbconvert --to python visualization-notebook.ipynb"
   ]
  },
  {
   "cell_type": "markdown",
   "metadata": {},
   "source": [
    "> 🚩 : Make a git commit here"
   ]
  }
 ],
 "metadata": {
  "kernelspec": {
   "display_name": "Python 3",
   "language": "python",
   "name": "python3"
  },
  "language_info": {
   "codemirror_mode": {
    "name": "ipython",
    "version": 3
   },
   "file_extension": ".py",
   "mimetype": "text/x-python",
   "name": "python",
   "nbconvert_exporter": "python",
   "pygments_lexer": "ipython3",
   "version": "3.11.1"
  },
  "nav_menu": {
   "height": "279px",
   "width": "309px"
  },
  "toc": {
   "nav_menu": {},
   "number_sections": true,
   "sideBar": true,
   "skip_h1_title": false,
   "toc_cell": false,
   "toc_position": {},
   "toc_section_display": "block",
   "toc_window_display": false
  }
 },
 "nbformat": 4,
 "nbformat_minor": 4
}
